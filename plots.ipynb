{
 "metadata": {
  "language_info": {
   "codemirror_mode": {
    "name": "ipython",
    "version": 3
   },
   "file_extension": ".py",
   "mimetype": "text/x-python",
   "name": "python",
   "nbconvert_exporter": "python",
   "pygments_lexer": "ipython3",
   "version": "3.7.4-final"
  },
  "orig_nbformat": 2,
  "kernelspec": {
   "name": "python_defaultSpec_1600173725357",
   "display_name": "Python 3.7.4 64-bit"
  }
 },
 "nbformat": 4,
 "nbformat_minor": 2,
 "cells": [
  {
   "cell_type": "code",
   "execution_count": 3,
   "metadata": {},
   "outputs": [
    {
     "output_type": "execute_result",
     "data": {
      "text/plain": "''"
     },
     "metadata": {},
     "execution_count": 3
    }
   ],
   "source": [
    "import re\n",
    "import pandas as pd\n",
    "import numpy as np\n",
    "import matplotlib.pyplot as plt\n",
    "\n",
    "\n",
    "with open('exp1_labeled.out') as fh:\n",
    "    out = fh.read()\n",
    "\n",
    "out = re.split(r'\\n', out); out[0]; out.pop()"
   ]
  },
  {
   "cell_type": "code",
   "execution_count": 18,
   "metadata": {
    "tags": [
     "outputPrepend"
    ]
   },
   "outputs": [
    {
     "output_type": "stream",
     "name": "stdout",
     "text": " 70}\n{'kernel_df': 3, 'beta': 3, 'bayes_error': 0.0195, 'n_source': 800, 'n_target': 200, 'classical': 0.09, 'labeled': 0.03, 'iter': 58}\n{'kernel_df': 3, 'beta': 3, 'bayes_error': 0.0181, 'n_source': 800, 'n_target': 400, 'classical': 0.15, 'labeled': 0.05, 'iter': 0}\n{'kernel_df': 3, 'beta': 3, 'bayes_error': 0.0192, 'n_source': 800, 'n_target': 400, 'classical': 0.13, 'labeled': 0.1, 'iter': 4}\n{'kernel_df': 3, 'beta': 3, 'bayes_error': 0.0201, 'n_source': 800, 'n_target': 400, 'classical': 0.15, 'labeled': 0.11, 'iter': 5}\n{'kernel_df': 3, 'beta': 3, 'bayes_error': 0.021, 'n_source': 800, 'n_target': 400, 'classical': 0.17, 'labeled': 0.06, 'iter': 7}\n{'kernel_df': 3, 'beta': 3, 'bayes_error': 0.0194, 'n_source': 800, 'n_target': 400, 'classical': 0.14, 'labeled': 0.06, 'iter': 2}\n{'kernel_df': 3, 'beta': 3, 'bayes_error': 0.0183, 'n_source': 800, 'n_target': 400, 'classical': 0.14, 'labeled': 0.07, 'iter': 1}\n{'kernel_df': 3, 'beta': 3, 'bayes_error': 0.0185, 'n_source': 800, 'n_target': 400, 'classical': 0.06, 'labeled': 0.06, 'iter': 3}\n{'kernel_df': 3, 'beta': 3, 'bayes_error': 0.0196, 'n_source': 800, 'n_target': 400, 'classical': 0.2, 'labeled': 0.1, 'iter': 6}\n{'kernel_df': 3, 'beta': 3, 'bayes_error': 0.0218, 'n_source': 800, 'n_target': 400, 'classical': 0.14, 'labeled': 0.06, 'iter': 13}\n{'kernel_df': 3, 'beta': 3, 'bayes_error': 0.0203, 'n_source': 800, 'n_target': 400, 'classical': 0.17, 'labeled': 0.1, 'iter': 44}\n{'kernel_df': 3, 'beta': 3, 'bayes_error': 0.019, 'n_source': 800, 'n_target': 400, 'classical': 0.13, 'labeled': 0.06, 'iter': 41}\n{'kernel_df': 3, 'beta': 3, 'bayes_error': 0.0212, 'n_source': 800, 'n_target': 400, 'classical': 0.17, 'labeled': 0.09, 'iter': 8}\n{'kernel_df': 3, 'beta': 3, 'bayes_error': 0.0185, 'n_source': 800, 'n_target': 400, 'classical': 0.14, 'labeled': 0.07, 'iter': 14}\n{'kernel_df': 3, 'beta': 3, 'bayes_error': 0.0197, 'n_source': 800, 'n_target': 400, 'classical': 0.17, 'labeled': 0.1, 'iter': 19}\n{'kernel_df': 3, 'beta': 3, 'bayes_error': 0.0166, 'n_source': 800, 'n_target': 400, 'classical': 0.12, 'labeled': 0.08, 'iter': 42}\n{'kernel_df': 3, 'beta': 3, 'bayes_error': 0.0198, 'n_source': 800, 'n_target': 400, 'classical': 0.2, 'labeled': 0.17, 'iter': 10}\n{'kernel_df': 3, 'beta': 3, 'bayes_error': 0.0183, 'n_source': 800, 'n_target': 400, 'classical': 0.13, 'labeled': 0.1, 'iter': 35}\n{'kernel_df': 3, 'beta': 3, 'bayes_error': 0.017, 'n_source': 800, 'n_target': 400, 'classical': 0.17, 'labeled': 0.12, 'iter': 22}\n{'kernel_df': 3, 'beta': 3, 'bayes_error': 0.0194, 'n_source': 800, 'n_target': 400, 'classical': 0.21, 'labeled': 0.1, 'iter': 24}\n{'kernel_df': 3, 'beta': 3, 'bayes_error': 0.0188, 'n_source': 800, 'n_target': 400, 'classical': 0.14, 'labeled': 0.07, 'iter': 45}\n{'kernel_df': 3, 'beta': 3, 'bayes_error': 0.017, 'n_source': 800, 'n_target': 400, 'classical': 0.18, 'labeled': 0.08, 'iter': 65}\n{'kernel_df': 3, 'beta': 3, 'bayes_error': 0.02, 'n_source': 800, 'n_target': 400, 'classical': 0.13, 'labeled': 0.07, 'iter': 48}\n{'kernel_df': 3, 'beta': 3, 'bayes_error': 0.0204, 'n_source': 800, 'n_target': 400, 'classical': 0.13, 'labeled': 0.08, 'iter': 49}\n{'kernel_df': 3, 'beta': 3, 'bayes_error': 0.0209, 'n_source': 800, 'n_target': 400, 'classical': 0.16, 'labeled': 0.05, 'iter': 40}\n{'kernel_df': 3, 'beta': 3, 'bayes_error': 0.0178, 'n_source': 800, 'n_target': 400, 'classical': 0.1, 'labeled': 0.05, 'iter': 11}\n{'kernel_df': 3, 'beta': 3, 'bayes_error': 0.0183, 'n_source': 800, 'n_target': 400, 'classical': 0.15, 'labeled': 0.08, 'iter': 38}\n{'kernel_df': 3, 'beta': 3, 'bayes_error': 0.0172, 'n_source': 800, 'n_target': 400, 'classical': 0.13, 'labeled': 0.07, 'iter': 36}\n{'kernel_df': 3, 'beta': 3, 'bayes_error': 0.0201, 'n_source': 800, 'n_target': 400, 'classical': 0.11, 'labeled': 0.06, 'iter': 27}\n{'kernel_df': 3, 'beta': 3, 'bayes_error': 0.0196, 'n_source': 800, 'n_target': 400, 'classical': 0.16, 'labeled': 0.1, 'iter': 69}\n{'kernel_df': 3, 'beta': 3, 'bayes_error': 0.0172, 'n_source': 800, 'n_target': 400, 'classical': 0.1, 'labeled': 0.08, 'iter': 66}\n{'kernel_df': 3, 'beta': 3, 'bayes_error': 0.0198, 'n_source': 800, 'n_target': 400, 'classical': 0.11, 'labeled': 0.06, 'iter': 54}\n{'kernel_df': 3, 'beta': 3, 'bayes_error': 0.0215, 'n_source': 800, 'n_target': 400, 'classical': 0.17, 'labeled': 0.13, 'iter': 63}\n{'kernel_df': 3, 'beta': 3, 'bayes_error': 0.0186, 'n_source': 800, 'n_target': 400, 'classical': 0.07, 'labeled': 0.05, 'iter': 46}\n{'kernel_df': 3, 'beta': 3, 'bayes_error': 0.0188, 'n_source': 800, 'n_target': 400, 'classical': 0.16, 'labeled': 0.06, 'iter': 43}\n{'kernel_df': 3, 'beta': 3, 'bayes_error': 0.0202, 'n_source': 800, 'n_target': 400, 'classical': 0.14, 'labeled': 0.09, 'iter': 71}\n{'kernel_df': 3, 'beta': 3, 'bayes_error': 0.0188, 'n_source': 800, 'n_target': 400, 'classical': 0.1, 'labeled': 0.07, 'iter': 28}\n{'kernel_df': 3, 'beta': 3, 'bayes_error': 0.0191, 'n_source': 800, 'n_target': 400, 'classical': 0.12, 'labeled': 0.08, 'iter': 58}\n{'kernel_df': 3, 'beta': 3, 'bayes_error': 0.018, 'n_source': 800, 'n_target': 400, 'classical': 0.12, 'labeled': 0.06, 'iter': 37}\n{'kernel_df': 3, 'beta': 3, 'bayes_error': 0.0184, 'n_source': 800, 'n_target': 400, 'classical': 0.09, 'labeled': 0.03, 'iter': 59}\n{'kernel_df': 3, 'beta': 3, 'bayes_error': 0.0188, 'n_source': 800, 'n_target': 400, 'classical': 0.12, 'labeled': 0.06, 'iter': 56}\n{'kernel_df': 3, 'beta': 3, 'bayes_error': 0.0193, 'n_source': 800, 'n_target': 400, 'classical': 0.17, 'labeled': 0.07, 'iter': 50}\n{'kernel_df': 3, 'beta': 3, 'bayes_error': 0.0196, 'n_source': 800, 'n_target': 400, 'classical': 0.13, 'labeled': 0.09, 'iter': 79}\n{'kernel_df': 3, 'beta': 3, 'bayes_error': 0.0197, 'n_source': 800, 'n_target': 400, 'classical': 0.1, 'labeled': 0.07, 'iter': 12}\n{'kernel_df': 3, 'beta': 3, 'bayes_error': 0.0189, 'n_source': 800, 'n_target': 400, 'classical': 0.1, 'labeled': 0.1, 'iter': 34}\n{'kernel_df': 3, 'beta': 3, 'bayes_error': 0.0217, 'n_source': 800, 'n_target': 400, 'classical': 0.16, 'labeled': 0.12, 'iter': 77}\n{'kernel_df': 3, 'beta': 3, 'bayes_error': 0.0168, 'n_source': 800, 'n_target': 400, 'classical': 0.15, 'labeled': 0.07, 'iter': 17}\n{'kernel_df': 3, 'beta': 3, 'bayes_error': 0.0191, 'n_source': 800, 'n_target': 400, 'classical': 0.08, 'labeled': 0.05, 'iter': 75}\n{'kernel_df': 3, 'beta': 3, 'bayes_error': 0.018, 'n_source': 800, 'n_target': 400, 'classical': 0.17, 'labeled': 0.06, 'iter': 76}\n{'kernel_df': 3, 'beta': 3, 'bayes_error': 0.0208, 'n_source': 800, 'n_target': 400, 'classical': 0.14, 'labeled': 0.1, 'iter': 15}\n{'kernel_df': 3, 'beta': 3, 'bayes_error': 0.0211, 'n_source': 800, 'n_target': 400, 'classical': 0.11, 'labeled': 0.09, 'iter': 67}\n{'kernel_df': 3, 'beta': 3, 'bayes_error': 0.0207, 'n_source': 800, 'n_target': 400, 'classical': 0.17, 'labeled': 0.08, 'iter': 20}\n{'kernel_df': 3, 'beta': 3, 'bayes_error': 0.0186, 'n_source': 800, 'n_target': 400, 'classical': 0.15, 'labeled': 0.07, 'iter': 81}\n{'kernel_df': 3, 'beta': 3, 'bayes_error': 0.0193, 'n_source': 800, 'n_target': 400, 'classical': 0.18, 'labeled': 0.13, 'iter': 61}\n{'kernel_df': 3, 'beta': 3, 'bayes_error': 0.02, 'n_source': 800, 'n_target': 400, 'classical': 0.18, 'labeled': 0.08, 'iter': 60}\n{'kernel_df': 3, 'beta': 3, 'bayes_error': 0.0194, 'n_source': 800, 'n_target': 400, 'classical': 0.13, 'labeled': 0.05, 'iter': 73}\n{'kernel_df': 3, 'beta': 3, 'bayes_error': 0.0188, 'n_source': 800, 'n_target': 400, 'classical': 0.08, 'labeled': 0.04, 'iter': 72}\n{'kernel_df': 3, 'beta': 3, 'bayes_error': 0.0179, 'n_source': 800, 'n_target': 400, 'classical': 0.13, 'labeled': 0.08, 'iter': 57}\n{'kernel_df': 3, 'beta': 3, 'bayes_error': 0.0194, 'n_source': 800, 'n_target': 400, 'classical': 0.1, 'labeled': 0.07, 'iter': 51}\n{'kernel_df': 3, 'beta': 3, 'bayes_error': 0.019, 'n_source': 800, 'n_target': 400, 'classical': 0.15, 'labeled': 0.08, 'iter': 53}\n{'kernel_df': 3, 'beta': 3, 'bayes_error': 0.0175, 'n_source': 800, 'n_target': 400, 'classical': 0.11, 'labeled': 0.07, 'iter': 23}\n{'kernel_df': 3, 'beta': 3, 'bayes_error': 0.0181, 'n_source': 800, 'n_target': 400, 'classical': 0.19, 'labeled': 0.06, 'iter': 47}\n{'kernel_df': 3, 'beta': 3, 'bayes_error': 0.0195, 'n_source': 800, 'n_target': 400, 'classical': 0.15, 'labeled': 0.1, 'iter': 33}\n{'kernel_df': 3, 'beta': 3, 'bayes_error': 0.0195, 'n_source': 800, 'n_target': 400, 'classical': 0.17, 'labeled': 0.11, 'iter': 31}\n{'kernel_df': 3, 'beta': 3, 'bayes_error': 0.0216, 'n_source': 800, 'n_target': 400, 'classical': 0.13, 'labeled': 0.1, 'iter': 84}\n{'kernel_df': 3, 'beta': 3, 'bayes_error': 0.0199, 'n_source': 800, 'n_target': 400, 'classical': 0.15, 'labeled': 0.09, 'iter': 25}\n{'kernel_df': 3, 'beta': 3, 'bayes_error': 0.0201, 'n_source': 800, 'n_target': 400, 'classical': 0.15, 'labeled': 0.06, 'iter': 32}\n{'kernel_df': 3, 'beta': 3, 'bayes_error': 0.0198, 'n_source': 800, 'n_target': 400, 'classical': 0.17, 'labeled': 0.06, 'iter': 78}\n{'kernel_df': 3, 'beta': 3, 'bayes_error': 0.0165, 'n_source': 800, 'n_target': 400, 'classical': 0.09, 'labeled': 0.06, 'iter': 62}\n{'kernel_df': 3, 'beta': 3, 'bayes_error': 0.019, 'n_source': 800, 'n_target': 400, 'classical': 0.11, 'labeled': 0.1, 'iter': 83}\n{'kernel_df': 3, 'beta': 3, 'bayes_error': 0.0173, 'n_source': 800, 'n_target': 400, 'classical': 0.1, 'labeled': 0.07, 'iter': 29}\n{'kernel_df': 3, 'beta': 3, 'bayes_error': 0.0166, 'n_source': 800, 'n_target': 400, 'classical': 0.12, 'labeled': 0.07, 'iter': 55}\n{'kernel_df': 3, 'beta': 3, 'bayes_error': 0.0189, 'n_source': 800, 'n_target': 400, 'classical': 0.1, 'labeled': 0.06, 'iter': 9}\n{'kernel_df': 3, 'beta': 3, 'bayes_error': 0.0201, 'n_source': 800, 'n_target': 400, 'classical': 0.15, 'labeled': 0.13, 'iter': 21}\n{'kernel_df': 3, 'beta': 3, 'bayes_error': 0.0168, 'n_source': 800, 'n_target': 400, 'classical': 0.13, 'labeled': 0.1, 'iter': 74}\n{'kernel_df': 3, 'beta': 3, 'bayes_error': 0.018, 'n_source': 800, 'n_target': 400, 'classical': 0.11, 'labeled': 0.06, 'iter': 26}\n{'kernel_df': 3, 'beta': 3, 'bayes_error': 0.0177, 'n_source': 800, 'n_target': 400, 'classical': 0.2, 'labeled': 0.08, 'iter': 82}\n{'kernel_df': 3, 'beta': 3, 'bayes_error': 0.0196, 'n_source': 800, 'n_target': 400, 'classical': 0.19, 'labeled': 0.11, 'iter': 93}\n{'kernel_df': 3, 'beta': 3, 'bayes_error': 0.0177, 'n_source': 800, 'n_target': 400, 'classical': 0.13, 'labeled': 0.07, 'iter': 87}\n{'kernel_df': 3, 'beta': 3, 'bayes_error': 0.017, 'n_source': 800, 'n_target': 400, 'classical': 0.12, 'labeled': 0.08, 'iter': 89}\n{'kernel_df': 3, 'beta': 3, 'bayes_error': 0.0187, 'n_source': 800, 'n_target': 400, 'classical': 0.1, 'labeled': 0.05, 'iter': 90}\n{'kernel_df': 3, 'beta': 3, 'bayes_error': 0.0194, 'n_source': 800, 'n_target': 400, 'classical': 0.2, 'labeled': 0.09, 'iter': 88}\n{'kernel_df': 3, 'beta': 3, 'bayes_error': 0.02, 'n_source': 800, 'n_target': 400, 'classical': 0.17, 'labeled': 0.11, 'iter': 92}\n{'kernel_df': 3, 'beta': 3, 'bayes_error': 0.0183, 'n_source': 800, 'n_target': 400, 'classical': 0.13, 'labeled': 0.05, 'iter': 94}\n{'kernel_df': 3, 'beta': 3, 'bayes_error': 0.0197, 'n_source': 800, 'n_target': 400, 'classical': 0.14, 'labeled': 0.06, 'iter': 85}\n{'kernel_df': 3, 'beta': 3, 'bayes_error': 0.0193, 'n_source': 800, 'n_target': 400, 'classical': 0.12, 'labeled': 0.07, 'iter': 16}\n{'kernel_df': 3, 'beta': 3, 'bayes_error': 0.0172, 'n_source': 800, 'n_target': 400, 'classical': 0.16, 'labeled': 0.13, 'iter': 52}\n{'kernel_df': 3, 'beta': 3, 'bayes_error': 0.0202, 'n_source': 800, 'n_target': 400, 'classical': 0.11, 'labeled': 0.06, 'iter': 91}\n{'kernel_df': 3, 'beta': 3, 'bayes_error': 0.0198, 'n_source': 800, 'n_target': 400, 'classical': 0.1, 'labeled': 0.09, 'iter': 18}\n{'kernel_df': 3, 'beta': 3, 'bayes_error': 0.0204, 'n_source': 800, 'n_target': 400, 'classical': 0.14, 'labeled': 0.1, 'iter': 80}\n{'kernel_df': 3, 'beta': 3, 'bayes_error': 0.0196, 'n_source': 800, 'n_target': 400, 'classical': 0.18, 'labeled': 0.12, 'iter': 64}\n{'kernel_df': 3, 'beta': 3, 'bayes_error': 0.0214, 'n_source': 800, 'n_target': 400, 'classical': 0.16, 'labeled': 0.1, 'iter': 95}\n{'kernel_df': 3, 'beta': 3, 'bayes_error': 0.0201, 'n_source': 800, 'n_target': 400, 'classical': 0.11, 'labeled': 0.03, 'iter': 98}\n{'kernel_df': 3, 'beta': 3, 'bayes_error': 0.0181, 'n_source': 800, 'n_target': 400, 'classical': 0.14, 'labeled': 0.06, 'iter': 97}\n{'kernel_df': 3, 'beta': 3, 'bayes_error': 0.0183, 'n_source': 800, 'n_target': 400, 'classical': 0.17, 'labeled': 0.13, 'iter': 99}\n{'kernel_df': 3, 'beta': 3, 'bayes_error': 0.0189, 'n_source': 800, 'n_target': 400, 'classical': 0.16, 'labeled': 0.11, 'iter': 86}\n{'kernel_df': 3, 'beta': 3, 'bayes_error': 0.0197, 'n_source': 800, 'n_target': 800, 'classical': 0.1, 'labeled': 0.07, 'iter': 2}\n{'kernel_df': 3, 'beta': 3, 'bayes_error': 0.0183, 'n_source': 800, 'n_target': 800, 'classical': 0.07, 'labeled': 0.02, 'iter': 5}\n{'kernel_df': 3, 'beta': 3, 'bayes_error': 0.0217, 'n_source': 800, 'n_target': 800, 'classical': 0.1, 'labeled': 0.05, 'iter': 3}\n{'kernel_df': 3, 'beta': 3, 'bayes_error': 0.018, 'n_source': 800, 'n_target': 800, 'classical': 0.12, 'labeled': 0.08, 'iter': 6}\n{'kernel_df': 3, 'beta': 3, 'bayes_error': 0.019, 'n_source': 800, 'n_target': 800, 'classical': 0.13, 'labeled': 0.13, 'iter': 0}\n{'kernel_df': 3, 'beta': 3, 'bayes_error': 0.0193, 'n_source': 800, 'n_target': 800, 'classical': 0.14, 'labeled': 0.09, 'iter': 10}\n{'kernel_df': 3, 'beta': 3, 'bayes_error': 0.0192, 'n_source': 800, 'n_target': 800, 'classical': 0.11, 'labeled': 0.05, 'iter': 4}\n{'kernel_df': 3, 'beta': 3, 'bayes_error': 0.0183, 'n_source': 800, 'n_target': 800, 'classical': 0.16, 'labeled': 0.11, 'iter': 12}\n{'kernel_df': 3, 'beta': 3, 'bayes_error': 0.0222, 'n_source': 800, 'n_target': 800, 'classical': 0.1, 'labeled': 0.04, 'iter': 9}\n{'kernel_df': 3, 'beta': 3, 'bayes_error': 0.0213, 'n_source': 800, 'n_target': 800, 'classical': 0.1, 'labeled': 0.11, 'iter': 13}\n{'kernel_df': 3, 'beta': 3, 'bayes_error': 0.019, 'n_source': 800, 'n_target': 800, 'classical': 0.13, 'labeled': 0.05, 'iter': 7}\n{'kernel_df': 3, 'beta': 3, 'bayes_error': 0.0178, 'n_source': 800, 'n_target': 800, 'classical': 0.13, 'labeled': 0.08, 'iter': 29}\n{'kernel_df': 3, 'beta': 3, 'bayes_error': 0.0183, 'n_source': 800, 'n_target': 800, 'classical': 0.13, 'labeled': 0.08, 'iter': 15}\n{'kernel_df': 3, 'beta': 3, 'bayes_error': 0.0202, 'n_source': 800, 'n_target': 800, 'classical': 0.12, 'labeled': 0.08, 'iter': 8}\n{'kernel_df': 3, 'beta': 3, 'bayes_error': 0.0187, 'n_source': 800, 'n_target': 800, 'classical': 0.12, 'labeled': 0.08, 'iter': 14}\n{'kernel_df': 3, 'beta': 3, 'bayes_error': 0.0188, 'n_source': 800, 'n_target': 800, 'classical': 0.11, 'labeled': 0.11, 'iter': 28}\n{'kernel_df': 3, 'beta': 3, 'bayes_error': 0.0198, 'n_source': 800, 'n_target': 800, 'classical': 0.14, 'labeled': 0.07, 'iter': 11}\n{'kernel_df': 3, 'beta': 3, 'bayes_error': 0.0203, 'n_source': 800, 'n_target': 800, 'classical': 0.07, 'labeled': 0.1, 'iter': 17}\n{'kernel_df': 3, 'beta': 3, 'bayes_error': 0.0185, 'n_source': 800, 'n_target': 800, 'classical': 0.19, 'labeled': 0.14, 'iter': 18}\n{'kernel_df': 3, 'beta': 3, 'bayes_error': 0.0188, 'n_source': 800, 'n_target': 800, 'classical': 0.11, 'labeled': 0.05, 'iter': 20}\n{'kernel_df': 3, 'beta': 3, 'bayes_error': 0.0179, 'n_source': 800, 'n_target': 800, 'classical': 0.13, 'labeled': 0.05, 'iter': 22}\n{'kernel_df': 3, 'beta': 3, 'bayes_error': 0.021, 'n_source': 800, 'n_target': 800, 'classical': 0.07, 'labeled': 0.06, 'iter': 16}\n{'kernel_df': 3, 'beta': 3, 'bayes_error': 0.0197, 'n_source': 800, 'n_target': 800, 'classical': 0.1, 'labeled': 0.09, 'iter': 21}\n{'kernel_df': 3, 'beta': 3, 'bayes_error': 0.0178, 'n_source': 800, 'n_target': 800, 'classical': 0.12, 'labeled': 0.11, 'iter': 23}\n{'kernel_df': 3, 'beta': 3, 'bayes_error': 0.0176, 'n_source': 800, 'n_target': 400, 'classical': 0.11, 'labeled': 0.06, 'iter': 96}\n{'kernel_df': 3, 'beta': 3, 'bayes_error': 0.0178, 'n_source': 800, 'n_target': 800, 'classical': 0.07, 'labeled': 0.06, 'iter': 30}\n{'kernel_df': 3, 'beta': 3, 'bayes_error': 0.0176, 'n_source': 800, 'n_target': 800, 'classical': 0.09, 'labeled': 0.07, 'iter': 24}\n{'kernel_df': 3, 'beta': 3, 'bayes_error': 0.0191, 'n_source': 800, 'n_target': 800, 'classical': 0.11, 'labeled': 0.08, 'iter': 27}\n{'kernel_df': 3, 'beta': 3, 'bayes_error': 0.0206, 'n_source': 800, 'n_target': 800, 'classical': 0.13, 'labeled': 0.13, 'iter': 19}\n{'kernel_df': 3, 'beta': 3, 'bayes_error': 0.0206, 'n_source': 800, 'n_target': 800, 'classical': 0.1, 'labeled': 0.07, 'iter': 26}\n{'kernel_df': 3, 'beta': 3, 'bayes_error': 0.021, 'n_source': 800, 'n_target': 800, 'classical': 0.17, 'labeled': 0.17, 'iter': 39}\n{'kernel_df': 3, 'beta': 3, 'bayes_error': 0.0185, 'n_source': 800, 'n_target': 800, 'classical': 0.17, 'labeled': 0.11, 'iter': 37}\n{'kernel_df': 3, 'beta': 3, 'bayes_error': 0.0203, 'n_source': 800, 'n_target': 800, 'classical': 0.17, 'labeled': 0.09, 'iter': 45}\n{'kernel_df': 3, 'beta': 3, 'bayes_error': 0.0199, 'n_source': 800, 'n_target': 800, 'classical': 0.13, 'labeled': 0.06, 'iter': 44}\n{'kernel_df': 3, 'beta': 3, 'bayes_error': 0.0183, 'n_source': 800, 'n_target': 800, 'classical': 0.1, 'labeled': 0.06, 'iter': 32}\n{'kernel_df': 3, 'beta': 3, 'bayes_error': 0.0186, 'n_source': 800, 'n_target': 800, 'classical': 0.09, 'labeled': 0.05, 'iter': 33}\n{'kernel_df': 3, 'beta': 3, 'bayes_error': 0.0188, 'n_source': 800, 'n_target': 800, 'classical': 0.09, 'labeled': 0.03, 'iter': 46}\n{'kernel_df': 3, 'beta': 3, 'bayes_error': 0.0186, 'n_source': 800, 'n_target': 800, 'classical': 0.17, 'labeled': 0.13, 'iter': 1}\n{'kernel_df': 3, 'beta': 3, 'bayes_error': 0.0211, 'n_source': 800, 'n_target': 800, 'classical': 0.09, 'labeled': 0.06, 'iter': 35}\n{'kernel_df': 3, 'beta': 3, 'bayes_error': 0.0194, 'n_source': 800, 'n_target': 800, 'classical': 0.13, 'labeled': 0.1, 'iter': 34}\n{'kernel_df': 3, 'beta': 3, 'bayes_error': 0.0182, 'n_source': 800, 'n_target': 800, 'classical': 0.15, 'labeled': 0.1, 'iter': 43}\n{'kernel_df': 3, 'beta': 3, 'bayes_error': 0.0192, 'n_source': 800, 'n_target': 800, 'classical': 0.06, 'labeled': 0.04, 'iter': 25}\n{'kernel_df': 3, 'beta': 3, 'bayes_error': 0.0192, 'n_source': 800, 'n_target': 800, 'classical': 0.06, 'labeled': 0.05, 'iter': 31}\n{'kernel_df': 3, 'beta': 3, 'bayes_error': 0.0195, 'n_source': 800, 'n_target': 800, 'classical': 0.07, 'labeled': 0.04, 'iter': 42}\n{'kernel_df': 3, 'beta': 3, 'bayes_error': 0.0183, 'n_source': 800, 'n_target': 800, 'classical': 0.13, 'labeled': 0.1, 'iter': 40}\n{'kernel_df': 3, 'beta': 3, 'bayes_error': 0.0188, 'n_source': 800, 'n_target': 800, 'classical': 0.12, 'labeled': 0.07, 'iter': 41}\n{'kernel_df': 3, 'beta': 3, 'bayes_error': 0.0199, 'n_source': 800, 'n_target': 800, 'classical': 0.1, 'labeled': 0.06, 'iter': 36}\n{'kernel_df': 3, 'beta': 3, 'bayes_error': 0.0175, 'n_source': 800, 'n_target': 800, 'classical': 0.11, 'labeled': 0.05, 'iter': 38}\n{'kernel_df': 3, 'beta': 3, 'bayes_error': 0.0191, 'n_source': 800, 'n_target': 800, 'classical': 0.13, 'labeled': 0.05, 'iter': 48}\n{'kernel_df': 3, 'beta': 3, 'bayes_error': 0.019, 'n_source': 800, 'n_target': 800, 'classical': 0.09, 'labeled': 0.1, 'iter': 50}\n{'kernel_df': 3, 'beta': 3, 'bayes_error': 0.0192, 'n_source': 800, 'n_target': 800, 'classical': 0.13, 'labeled': 0.09, 'iter': 53}\n{'kernel_df': 3, 'beta': 3, 'bayes_error': 0.02, 'n_source': 800, 'n_target': 800, 'classical': 0.12, 'labeled': 0.08, 'iter': 49}\n{'kernel_df': 3, 'beta': 3, 'bayes_error': 0.0167, 'n_source': 800, 'n_target': 800, 'classical': 0.1, 'labeled': 0.08, 'iter': 67}\n{'kernel_df': 3, 'beta': 3, 'bayes_error': 0.0172, 'n_source': 800, 'n_target': 800, 'classical': 0.11, 'labeled': 0.05, 'iter': 68}\n{'kernel_df': 3, 'beta': 3, 'bayes_error': 0.0175, 'n_source': 800, 'n_target': 800, 'classical': 0.11, 'labeled': 0.1, 'iter': 69}\n"
    },
    {
     "output_type": "error",
     "ename": "IndexError",
     "evalue": "string index out of range",
     "traceback": [
      "\u001b[0;31m---------------------------------------------------------------------------\u001b[0m",
      "\u001b[0;31mIndexError\u001b[0m                                Traceback (most recent call last)",
      "\u001b[0;32m<ipython-input-18-51e9a6eff99b>\u001b[0m in \u001b[0;36m<module>\u001b[0;34m\u001b[0m\n\u001b[1;32m      1\u001b[0m \u001b[0mdict_list\u001b[0m \u001b[0;34m=\u001b[0m \u001b[0;34m[\u001b[0m\u001b[0;34m]\u001b[0m\u001b[0;34m\u001b[0m\u001b[0;34m\u001b[0m\u001b[0m\n\u001b[1;32m      2\u001b[0m \u001b[0;32mfor\u001b[0m \u001b[0md\u001b[0m \u001b[0;32min\u001b[0m \u001b[0mout\u001b[0m\u001b[0;34m:\u001b[0m\u001b[0;34m\u001b[0m\u001b[0;34m\u001b[0m\u001b[0m\n\u001b[0;32m----> 3\u001b[0;31m     \u001b[0;32mif\u001b[0m \u001b[0md\u001b[0m\u001b[0;34m[\u001b[0m\u001b[0;36m0\u001b[0m\u001b[0;34m]\u001b[0m \u001b[0;34m!=\u001b[0m \u001b[0;34m'{'\u001b[0m\u001b[0;34m:\u001b[0m\u001b[0;34m\u001b[0m\u001b[0;34m\u001b[0m\u001b[0m\n\u001b[0m\u001b[1;32m      4\u001b[0m         \u001b[0md\u001b[0m \u001b[0;34m=\u001b[0m \u001b[0;34m'{'\u001b[0m \u001b[0;34m+\u001b[0m \u001b[0md\u001b[0m\u001b[0;34m\u001b[0m\u001b[0;34m\u001b[0m\u001b[0m\n\u001b[1;32m      5\u001b[0m     \u001b[0;32mif\u001b[0m \u001b[0md\u001b[0m\u001b[0;34m[\u001b[0m\u001b[0;34m-\u001b[0m\u001b[0;36m1\u001b[0m\u001b[0;34m]\u001b[0m \u001b[0;34m!=\u001b[0m \u001b[0;34m'}'\u001b[0m\u001b[0;34m:\u001b[0m\u001b[0;34m\u001b[0m\u001b[0;34m\u001b[0m\u001b[0m\n",
      "\u001b[0;31mIndexError\u001b[0m: string index out of range"
     ]
    }
   ],
   "source": [
    "def find_numbers(x):\n",
    "    rawlist = re.findall(r'(\\d+)\\s|(\\d+)\\.(\\d+)', x)\n",
    "    numlist = []\n",
    "    for g in rawlist:\n",
    "        if g[0] != '':\n",
    "            numlist.append(float(g[0]))\n",
    "        if g[1] != '':\n",
    "            numlist.append(float(g[1]+'.'+g[2]))\n",
    "    return numlist"
   ]
  },
  {
   "cell_type": "code",
   "execution_count": 6,
   "metadata": {},
   "outputs": [
    {
     "output_type": "execute_result",
     "data": {
      "text/plain": "\"{'kernel_df': 3, 'beta': 3, 'bayes_error': 0.0183, 'n_source': 800, 'n_target': 25, 'classical': 0.19, 'labeled': 0.13, 'iter': 0}\""
     },
     "metadata": {},
     "execution_count": 6
    }
   ],
   "source": [
    "out[0]"
   ]
  },
  {
   "cell_type": "code",
   "execution_count": 16,
   "metadata": {},
   "outputs": [
    {
     "output_type": "execute_result",
     "data": {
      "text/plain": "\"'\""
     },
     "metadata": {},
     "execution_count": 16
    }
   ],
   "source": [
    "out[19][0]"
   ]
  },
  {
   "cell_type": "code",
   "execution_count": null,
   "metadata": {},
   "outputs": [],
   "source": []
  }
 ]
}