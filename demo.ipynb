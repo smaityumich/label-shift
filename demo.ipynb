{
 "cells": [
  {
   "cell_type": "code",
   "execution_count": 1,
   "metadata": {},
   "outputs": [],
   "source": [
    "import numpy as np\n",
    "import setup\n",
    "import data\n",
    "\n",
    "beta = 3\n",
    "kernel_df = 3\n",
    "n_target = 100\n",
    "prop_target = 0.75\n",
    "n_source = 1000\n",
    "prop_source = 0.5\n",
    "distance = 0.5\n",
    "d = 2\n"
   ]
  },
  {
   "cell_type": "markdown",
   "metadata": {},
   "source": [
    "#### Data"
   ]
  },
  {
   "cell_type": "code",
   "execution_count": 2,
   "metadata": {},
   "outputs": [],
   "source": [
    "D = data.DataGenerator(d = d)\n",
    "x_source, y_source = D.getData(n_source, prop_source, distance=distance)\n",
    "x_target, y_target = D.getData(n_target, prop_target, distance=distance)\n",
    "x_test, y_test = D.getData(100, prop_target, distance=distance)\n",
    "bayes_error = D.bayes_error(prop=prop_target, distance=distance)\n",
    "parameter = beta, kernel_df, prop_target"
   ]
  },
  {
   "cell_type": "markdown",
   "metadata": {},
   "source": [
    "### Demo with target labels"
   ]
  },
  {
   "cell_type": "code",
   "execution_count": 3,
   "metadata": {},
   "outputs": [],
   "source": [
    "return_dict = setup.excess_risk(parameter, x_source, y_source, x_target,\\\n",
    "         y_target, x_test, y_test, bayes_error, labeled=True)\n",
    "\n"
   ]
  },
  {
   "cell_type": "code",
   "execution_count": 4,
   "metadata": {},
   "outputs": [
    {
     "name": "stdout",
     "output_type": "stream",
     "text": [
      "Parameters:\n",
      " kernel degrees: 3\n",
      " n_P: 1000\n",
      " n_Q: 100\n",
      " pi_P: 0.5\n",
      " pi_Q: 0.75\n",
      "Classification errors:\n",
      " supervised label-shift: 0.25\n",
      " classical (trained just on target data): 0.4\n"
     ]
    }
   ],
   "source": [
    "print(f'Parameters:\\n kernel degrees: {kernel_df}\\n n_P: {n_source}\\n n_Q: {n_target}\\n pi_P: {prop_source}\\n pi_Q: {prop_target}')\n",
    "cl_classical = return_dict['classical']\n",
    "cl_supervised = return_dict['supervised']\n",
    "print(f'Classification errors:\\n supervised label-shift: {cl_supervised}\\n classical (trained just on target data): {cl_classical}')"
   ]
  },
  {
   "cell_type": "markdown",
   "metadata": {},
   "source": [
    "### Demo without target labels"
   ]
  },
  {
   "cell_type": "code",
   "execution_count": 5,
   "metadata": {},
   "outputs": [],
   "source": [
    "return_dict = setup.excess_risk(parameter, x_source, y_source, x_target,\\\n",
    "         y_target, x_test, y_test, bayes_error, labeled=False)\n"
   ]
  },
  {
   "cell_type": "code",
   "execution_count": 6,
   "metadata": {},
   "outputs": [
    {
     "name": "stdout",
     "output_type": "stream",
     "text": [
      "Parameters:\n",
      " kernel degrees: 3\n",
      " n_P: 1000\n",
      " n_Q: 100\n",
      " pi_P: 0.5\n",
      " pi_Q: 0.75\n",
      "Classification errors:\n",
      " unsupervised label-shift: 0.32\n",
      " oracle (trained with the original value of pi_Q): 0.25\n"
     ]
    }
   ],
   "source": [
    "print(f'Parameters:\\n kernel degrees: {kernel_df}\\n n_P: {n_source}\\n n_Q: {n_target}\\n pi_P: {prop_source}\\n pi_Q: {prop_target}')\n",
    "cl_unlabeled = return_dict['lipton']\n",
    "cl_oracle = return_dict['oracle']\n",
    "print(f'Classification errors:\\n unsupervised label-shift: {cl_unlabeled}\\n oracle (trained with the original value of pi_Q): {cl_oracle}')"
   ]
  }
 ],
 "metadata": {
  "interpreter": {
   "hash": "31f2aee4e71d21fbe5cf8b01ff0e069b9275f58929596ceb00d14d90e3e16cd6"
  },
  "kernelspec": {
   "display_name": "Python 3.8.9 64-bit",
   "language": "python",
   "name": "python3"
  },
  "language_info": {
   "codemirror_mode": {
    "name": "ipython",
    "version": 3
   },
   "file_extension": ".py",
   "mimetype": "text/x-python",
   "name": "python",
   "nbconvert_exporter": "python",
   "pygments_lexer": "ipython3",
   "version": "3.8.9"
  },
  "orig_nbformat": 4
 },
 "nbformat": 4,
 "nbformat_minor": 2
}
