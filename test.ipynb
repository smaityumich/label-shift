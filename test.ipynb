{
 "metadata": {
  "language_info": {
   "codemirror_mode": {
    "name": "ipython",
    "version": 3
   },
   "file_extension": ".py",
   "mimetype": "text/x-python",
   "name": "python",
   "nbconvert_exporter": "python",
   "pygments_lexer": "ipython3",
   "version": "3.7.4-final"
  },
  "orig_nbformat": 2,
  "kernelspec": {
   "name": "python_defaultSpec_1600174526889",
   "display_name": "Python 3.7.4 64-bit"
  }
 },
 "nbformat": 4,
 "nbformat_minor": 2,
 "cells": [
  {
   "cell_type": "code",
   "execution_count": 11,
   "metadata": {},
   "outputs": [],
   "source": [
    "import numpy as np\n",
    "import kernel\n",
    "y1, y2 = np.random.binomial(1, 0.5, (100,)), np.random.binomial(1, 0.75, (1000,))\n",
    "x1, x2 = np.random.normal(loc = y1 * 1, scale= 0.1, size=(100,)), np.random.normal(loc = y2 * 1, scale= 0.1, size=(1000,))\n",
    "x1, x2 = np.reshape(x1, (100, 1)), x2.reshape((1000, 1))"
   ]
  },
  {
   "cell_type": "code",
   "execution_count": 2,
   "metadata": {
    "tags": []
   },
   "outputs": [
    {
     "output_type": "execute_result",
     "data": {
      "text/plain": "array([ True,  True,  True,  True,  True,  True,  True,  True,  True,\n        True,  True,  True,  True,  True,  True,  True,  True,  True,\n        True,  True,  True,  True,  True,  True,  True,  True,  True,\n        True,  True,  True,  True,  True,  True,  True,  True,  True,\n        True,  True,  True,  True,  True,  True,  True,  True,  True,\n        True,  True,  True,  True,  True,  True,  True,  True,  True,\n        True,  True,  True,  True,  True,  True,  True,  True,  True,\n        True,  True,  True,  True,  True,  True,  True,  True,  True,\n        True,  True,  True,  True,  True,  True,  True,  True,  True,\n        True,  True,  True,  True,  True,  True,  True,  True,  True,\n        True,  True,  True,  True,  True,  True,  True,  True,  True,\n        True])"
     },
     "metadata": {},
     "execution_count": 2
    }
   ],
   "source": [
    "import classifier\n",
    "cl1 = classifier.KDEClassifierOptimalParameter()\n",
    "cl1.fit(x1, y1)\n",
    "cl1.predict(x2) == y2"
   ]
  },
  {
   "cell_type": "code",
   "execution_count": 3,
   "metadata": {},
   "outputs": [
    {
     "output_type": "execute_result",
     "data": {
      "text/plain": "array([ True,  True,  True,  True,  True,  True,  True,  True,  True,\n        True,  True,  True,  True,  True,  True,  True,  True,  True,\n        True,  True,  True,  True,  True,  True,  True,  True,  True,\n        True,  True,  True,  True,  True,  True,  True,  True,  True,\n        True,  True,  True,  True,  True,  True,  True,  True,  True,\n        True,  True,  True,  True,  True,  True,  True,  True,  True,\n        True,  True,  True,  True,  True,  True,  True,  True,  True,\n        True,  True,  True,  True,  True,  True,  True,  True,  True,\n        True,  True,  True,  True,  True,  True,  True,  True,  True,\n        True,  True,  True,  True,  True,  True,  True,  True,  True,\n        True,  True,  True,  True,  True,  True,  True,  True,  True,\n        True])"
     },
     "metadata": {},
     "execution_count": 3
    }
   ],
   "source": [
    "import supervised\n",
    "cl2 = supervised.WithLabelClassifier(bandwidth=0.3, kernel_df=4)\n",
    "cl2.fit(x1, y1, x2, y2)\n",
    "cl2.predict(x2) == y2"
   ]
  },
  {
   "cell_type": "code",
   "execution_count": 4,
   "metadata": {},
   "outputs": [
    {
     "output_type": "execute_result",
     "data": {
      "text/plain": "array([ True,  True,  True,  True,  True,  True,  True,  True,  True,\n        True,  True,  True,  True,  True,  True,  True,  True,  True,\n        True,  True,  True,  True,  True,  True,  True,  True,  True,\n        True,  True,  True,  True,  True,  True,  True,  True,  True,\n        True,  True,  True,  True,  True,  True,  True,  True,  True,\n        True,  True,  True,  True,  True,  True,  True,  True,  True,\n        True,  True,  True,  True,  True,  True,  True,  True,  True,\n        True,  True,  True,  True,  True,  True,  True,  True,  True,\n        True,  True,  True,  True,  True,  True,  True,  True,  True,\n        True,  True,  True,  True,  True,  True,  True,  True,  True,\n        True,  True,  True,  True,  True,  True,  True,  True,  True,\n        True])"
     },
     "metadata": {},
     "execution_count": 4
    }
   ],
   "source": [
    "import mixture_classifier\n",
    "cl3 = mixture_classifier.MixtureClassifier()\n",
    "cl3.fit(cl1._classifier, x2, y2)\n",
    "cl3.predict(x2) == y2"
   ]
  },
  {
   "cell_type": "code",
   "execution_count": 5,
   "metadata": {
    "tags": []
   },
   "outputs": [
    {
     "output_type": "execute_result",
     "data": {
      "text/plain": "array([ True,  True,  True,  True,  True,  True,  True,  True,  True,\n        True,  True,  True,  True,  True,  True,  True,  True,  True,\n        True,  True,  True,  True,  True,  True,  True,  True,  True,\n        True,  True,  True,  True,  True,  True,  True,  True,  True,\n        True,  True,  True,  True,  True,  True,  True,  True,  True,\n        True,  True,  True,  True,  True,  True,  True,  True,  True,\n        True,  True,  True,  True,  True,  True,  True,  True,  True,\n        True,  True,  True,  True,  True,  True,  True,  True,  True,\n        True,  True,  True,  True,  True,  True,  True,  True,  True,\n        True,  True,  True,  True,  True,  True,  True,  True,  True,\n        True,  True,  True,  True,  True,  True,  True,  True,  True,\n        True])"
     },
     "metadata": {},
     "execution_count": 5
    }
   ],
   "source": [
    "cl4 = mixture_classifier.OptimalMixtureClassifier()\n",
    "cl4.fit2(x1, y1, x2, y2)\n",
    "cl4.predict(x2) == y2"
   ]
  },
  {
   "cell_type": "code",
   "execution_count": 4,
   "metadata": {},
   "outputs": [
    {
     "output_type": "execute_result",
     "data": {
      "text/plain": "array([ True,  True,  True,  True,  True,  True,  True,  True,  True,\n        True,  True,  True,  True,  True,  True,  True,  True,  True,\n        True,  True,  True,  True,  True,  True,  True,  True,  True,\n        True,  True,  True,  True,  True,  True,  True,  True,  True,\n        True,  True,  True,  True,  True,  True,  True,  True,  True,\n        True,  True,  True,  True,  True,  True,  True,  True,  True,\n        True,  True,  True,  True,  True,  True,  True,  True,  True,\n        True,  True,  True,  True,  True,  True,  True,  True,  True,\n        True,  True,  True,  True,  True,  True,  True,  True,  True,\n        True,  True,  True,  True,  True,  True,  True,  True,  True,\n        True,  True,  True,  True,  True,  True,  True,  True,  True,\n        True])"
     },
     "metadata": {},
     "execution_count": 4
    }
   ],
   "source": [
    "# Unlabeled classifier; lipton\n",
    "import unsupervised\n",
    "n, d = np.shape(x1)\n",
    "beta, kernel_df = 5, 5\n",
    "bandwidth = n ** (-1/(2*beta+d))\n",
    "cl4 = unsupervised.WithoutLabelClassifier(kernel_df=kernel_df, bandwidth=bandwidth)\n",
    "cl4.fit(x1, y1, x2, method='lipton')\n",
    "y2 == cl4.predict(x2)"
   ]
  },
  {
   "cell_type": "code",
   "execution_count": 7,
   "metadata": {},
   "outputs": [
    {
     "output_type": "execute_result",
     "data": {
      "text/plain": "array([ True,  True,  True,  True,  True,  True,  True,  True,  True,\n        True,  True,  True,  True,  True,  True,  True,  True,  True,\n        True,  True,  True,  True,  True,  True,  True,  True,  True,\n        True,  True,  True,  True,  True,  True,  True,  True,  True,\n        True,  True,  True,  True,  True,  True,  True,  True,  True,\n        True,  True,  True,  True,  True,  True,  True,  True,  True,\n        True,  True,  True,  True,  True,  True,  True,  True,  True,\n        True,  True,  True,  True,  True,  True,  True,  True,  True,\n        True,  True,  True,  True,  True,  True,  True,  True,  True,\n        True,  True,  True,  True,  True,  True,  True,  True,  True,\n        True,  True,  True,  True,  True,  True,  True,  True,  True,\n        True])"
     },
     "metadata": {},
     "execution_count": 7
    }
   ],
   "source": [
    "cl4 = classifier.KDEClassifier(kernel_df=kernel_df, bandwidth=bandwidth)\n",
    "prop_target = 0.75\n",
    "cl4.fit(x1, y1, [1-prop_target, prop_target])\n",
    "cl3.predict(x2) == y2"
   ]
  },
  {
   "cell_type": "code",
   "execution_count": 28,
   "metadata": {},
   "outputs": [],
   "source": [
    "a = 25 * (2 ** np.linspace(0, 9, 10))\n",
    "b = np.repeat(100, 10)\n",
    "c = np.array([10, 20, 40, 80, 160, 320, 640, 1280, 2560, 5120])\n",
    "e1 = np.column_stack((a, b))\n",
    "e2 = np.column_stack((b/2, c))\n",
    "sample_sizes1 = np.vstack((e1, e2))\n",
    "label1 = np.repeat(False, 10)\n",
    "\n",
    "a = 25 * (2 ** np.linspace(3, 9, 7))\n",
    "b = np.repeat(50, 7)\n",
    "e1 = np.column_stack((a-b, b))\n",
    "e2 = np.column_stack((b, a-b))\n",
    "sample_sizes2 = np.vstack((e1, e2))\n",
    "label2 = np.repeat(True, 7)\n",
    "\n",
    "sample_sizes = np.vstack((sample_sizes1, sample_sizes2))\n",
    "sample_sizes = np.array(sample_sizes, dtype = 'int32')\n",
    "label = np.array([False] * 20 + [True] * 14, dtype='bool')"
   ]
  },
  {
   "cell_type": "code",
   "execution_count": 29,
   "metadata": {},
   "outputs": [],
   "source": [
    "np.save('sample_sizes.npy', sample_sizes)\n",
    "np.save('label.npy', label)"
   ]
  },
  {
   "cell_type": "code",
   "execution_count": 30,
   "metadata": {},
   "outputs": [
    {
     "output_type": "execute_result",
     "data": {
      "text/plain": "array([[   25,   100],\n       [   50,   100],\n       [  100,   100],\n       [  200,   100],\n       [  400,   100],\n       [  800,   100],\n       [ 1600,   100],\n       [ 3200,   100],\n       [ 6400,   100],\n       [12800,   100],\n       [   50,    10],\n       [   50,    20],\n       [   50,    40],\n       [   50,    80],\n       [   50,   160],\n       [   50,   320],\n       [   50,   640],\n       [   50,  1280],\n       [   50,  2560],\n       [   50,  5120],\n       [  150,    50],\n       [  350,    50],\n       [  750,    50],\n       [ 1550,    50],\n       [ 3150,    50],\n       [ 6350,    50],\n       [12750,    50],\n       [   50,   150],\n       [   50,   350],\n       [   50,   750],\n       [   50,  1550],\n       [   50,  3150],\n       [   50,  6350],\n       [   50, 12750]], dtype=int32)"
     },
     "metadata": {},
     "execution_count": 30
    }
   ],
   "source": [
    "sample_sizes"
   ]
  },
  {
   "cell_type": "code",
   "execution_count": 31,
   "metadata": {},
   "outputs": [
    {
     "output_type": "execute_result",
     "data": {
      "text/plain": "array([False, False, False, False, False, False, False, False, False,\n       False, False, False, False, False, False, False, False, False,\n       False, False,  True,  True,  True,  True,  True,  True,  True,\n        True,  True,  True,  True,  True,  True,  True])"
     },
     "metadata": {},
     "execution_count": 31
    }
   ],
   "source": [
    "label"
   ]
  },
  {
   "cell_type": "code",
   "execution_count": 20,
   "metadata": {},
   "outputs": [
    {
     "output_type": "execute_result",
     "data": {
      "text/plain": "3225"
     },
     "metadata": {},
     "execution_count": 20
    }
   ],
   "source": [
    "i = (25 + 15 * 100 + 17 * 100 )\n",
    "iteration = i % 100\n",
    "\n",
    "j = i // 100\n",
    "k = j % 17\n",
    "\n",
    "j = j // 17\n",
    "beta = j\n",
    "i"
   ]
  },
  {
   "cell_type": "code",
   "execution_count": 19,
   "metadata": {},
   "outputs": [
    {
     "output_type": "execute_result",
     "data": {
      "text/plain": "(25, 15, 1)"
     },
     "metadata": {},
     "execution_count": 19
    }
   ],
   "source": [
    "iteration, k, beta"
   ]
  },
  {
   "cell_type": "code",
   "execution_count": 3,
   "metadata": {},
   "outputs": [
    {
     "output_type": "execute_result",
     "data": {
      "text/plain": "{'kernel_df': 3,\n 'beta': 3,\n 'bayes_error': 0.02,\n 'n_source': 100,\n 'n_target': 100,\n 'classical': 0.0,\n 'labeled': 0.0,\n 'mixture': 0.0}"
     },
     "metadata": {},
     "execution_count": 3
    }
   ],
   "source": [
    "import setup\n",
    "parameter = 3, 3, 0.75\n",
    "setup.excess_risk(parameter, x1, y1, x2, y2, x2, y2, 0.02, True)"
   ]
  },
  {
   "cell_type": "code",
   "execution_count": 1,
   "metadata": {
    "tags": []
   },
   "outputs": [
    {
     "output_type": "stream",
     "name": "stdout",
     "text": "{'kernel_df': 3, 'beta': 3, 'bayes_error': 0.0191, 'n_source': 800, 'n_target': 800, 'classical': 0.14, 'labeled': 0.08, 'iter': 0}\n"
    }
   ],
   "source": [
    "import experiment\n",
    "experiment.f('a', 800, 800, 0.75)"
   ]
  },
  {
   "cell_type": "code",
   "execution_count": 2,
   "metadata": {
    "tags": []
   },
   "outputs": [
    {
     "output_type": "stream",
     "name": "stdout",
     "text": "{'kernel_df': 3, 'beta': 3, 'bayes_error': 0.0186, 'n_source': 800, 'n_target': 800, 'lipton': 0.23, 'oracle': 0.06, 'iter': 0}\n"
    }
   ],
   "source": [
    "experiment.f('a', 800, 800, 0.75, labeled = False)"
   ]
  },
  {
   "cell_type": "code",
   "execution_count": 3,
   "metadata": {
    "tags": []
   },
   "outputs": [
    {
     "output_type": "stream",
     "name": "stdout",
     "text": "Done\nn_s: 800.0, n_t: 800.0, kernel_df: 5, beta: 5, iter: 2, label: True\n{'kernel_df': 5, 'beta': 5, 'bayes_error': 0.018, 'n_source': 800, 'n_target': 800, 'classical': 0.11, 'labeled': 0.08, 'iter': 2}\n"
    }
   ],
   "source": [
    "!python3 experiment.py 162"
   ]
  },
  {
   "cell_type": "code",
   "execution_count": 15,
   "metadata": {},
   "outputs": [],
   "source": [
    "import prop_estimation\n",
    "p, w = prop_estimation.lipton_method(x1, y1, x2)"
   ]
  },
  {
   "cell_type": "code",
   "execution_count": 19,
   "metadata": {},
   "outputs": [],
   "source": [
    "a = w * np.array([0.5, 0.5])"
   ]
  },
  {
   "cell_type": "code",
   "execution_count": 20,
   "metadata": {},
   "outputs": [
    {
     "output_type": "execute_result",
     "data": {
      "text/plain": "array([0.22023535, 0.77976465])"
     },
     "metadata": {},
     "execution_count": 20
    }
   ],
   "source": [
    "a / np.sum(a)"
   ]
  },
  {
   "cell_type": "code",
   "execution_count": 21,
   "metadata": {
    "tags": []
   },
   "outputs": [
    {
     "output_type": "stream",
     "name": "stdout",
     "text": "[0.249 0.751]\n"
    }
   ],
   "source": [
    "import classifier\n",
    "cl = classifier.KDEClassifierQuick()\n",
    "cl.fit(x1, y1, w)"
   ]
  },
  {
   "cell_type": "code",
   "execution_count": null,
   "metadata": {},
   "outputs": [],
   "source": []
  }
 ]
}