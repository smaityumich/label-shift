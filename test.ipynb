{
 "metadata": {
  "language_info": {
   "codemirror_mode": {
    "name": "ipython",
    "version": 3
   },
   "file_extension": ".py",
   "mimetype": "text/x-python",
   "name": "python",
   "nbconvert_exporter": "python",
   "pygments_lexer": "ipython3",
   "version": "3.7.6-final"
  },
  "orig_nbformat": 2,
  "kernelspec": {
   "name": "Python 3.7.6 64-bit",
   "display_name": "Python 3.7.6 64-bit",
   "metadata": {
    "interpreter": {
     "hash": "5984c07bd85a09704efeebc43c280456997f3d9e1810f10980d19f89f173e200"
    }
   }
  }
 },
 "nbformat": 4,
 "nbformat_minor": 2,
 "cells": [
  {
   "cell_type": "code",
   "execution_count": 31,
   "metadata": {},
   "outputs": [],
   "source": [
    "import numpy as np\n",
    "import kernel\n",
    "y1, y2 = np.random.binomial(1, 0.5, (250,)), np.random.binomial(1, 0.75, (100,))\n",
    "x1, x2 = np.random.normal(loc = y1 * 2, scale= 1, size=(250,)), np.random.normal(loc =  y2 * 1, scale= 1.5, size=(100,))\n",
    "x1, x2 = np.reshape(x1, (250, 1)), x2.reshape((100, 1))"
   ]
  },
  {
   "cell_type": "code",
   "execution_count": 32,
   "metadata": {
    "tags": []
   },
   "outputs": [
    {
     "output_type": "stream",
     "name": "stdout",
     "text": [
      "Lipton weights[0.58679597 0.41320403]\nProp target:0.41320403413498846\n"
     ]
    },
    {
     "output_type": "execute_result",
     "data": {
      "text/plain": [
       "0.51"
      ]
     },
     "metadata": {},
     "execution_count": 32
    }
   ],
   "source": [
    "# Unlabeled classifier; lipton\n",
    "import unsupervised\n",
    "n, d = np.shape(x1)\n",
    "beta, kernel_df = 3, 3\n",
    "cl4 = unsupervised.WithoutLabelClassifier(kernel_df=kernel_df, beta=beta)\n",
    "cl4.fit(x1, y1, x2, method='lipton')\n",
    "1-np.mean(y2 == cl4.predict(x2))"
   ]
  },
  {
   "cell_type": "code",
   "execution_count": 33,
   "metadata": {},
   "outputs": [
    {
     "output_type": "execute_result",
     "data": {
      "text/plain": [
       "0.45999999999999996"
      ]
     },
     "metadata": {},
     "execution_count": 33
    }
   ],
   "source": [
    "import classifier\n",
    "cl4 = classifier.KDEClassifierQuick(kernel_df=3, beta = 3)\n",
    "prop_target = 0.5\n",
    "cl4.fit(x1, y1, [1-prop_target, prop_target])\n",
    "1-np.mean(cl4.predict(x2) == y2)"
   ]
  },
  {
   "cell_type": "code",
   "execution_count": 39,
   "metadata": {},
   "outputs": [],
   "source": [
    "import numpy as np\n",
    "a = 20 * (2 ** np.linspace(0, 8, 9))\n",
    "b = np.repeat(100, 9)\n",
    "c = 20 * (2 ** np.linspace(0, 6, 7))\n",
    "d = np.repeat(400, 7)\n",
    "e1 = np.column_stack((a, b))\n",
    "e2 = np.column_stack((d, c))\n",
    "sample_sizes1 = np.vstack((e1, e2))\n",
    "label1 = np.repeat(False, 10)\n",
    "\n",
    "a = 25 * (2 ** np.linspace(1, 8, 8))\n",
    "b = np.repeat(40, 8)\n",
    "e1 = np.column_stack((2*a-2*b, b))\n",
    "e2 = np.column_stack((2*b, a-b))\n",
    "sample_sizes2 = np.vstack((e1, e2))\n",
    "label2 = np.repeat(True, 7)\n",
    "\n",
    "sample_sizes = np.vstack((sample_sizes1, sample_sizes2))\n",
    "sample_sizes = np.array(sample_sizes, dtype = 'int32')\n",
    "label = np.array([False] * 16 + [True] * 16, dtype='bool')"
   ]
  },
  {
   "cell_type": "code",
   "execution_count": 40,
   "metadata": {},
   "outputs": [],
   "source": [
    "np.save('sample_sizes.npy', sample_sizes)\n",
    "np.save('label.npy', label)"
   ]
  },
  {
   "cell_type": "code",
   "execution_count": 41,
   "metadata": {},
   "outputs": [
    {
     "output_type": "execute_result",
     "data": {
      "text/plain": [
       "array([[   20,   100],\n",
       "       [   40,   100],\n",
       "       [   80,   100],\n",
       "       [  160,   100],\n",
       "       [  320,   100],\n",
       "       [  640,   100],\n",
       "       [ 1280,   100],\n",
       "       [ 2560,   100],\n",
       "       [ 5120,   100],\n",
       "       [  400,    20],\n",
       "       [  400,    40],\n",
       "       [  400,    80],\n",
       "       [  400,   160],\n",
       "       [  400,   320],\n",
       "       [  400,   640],\n",
       "       [  400,  1280],\n",
       "       [   20,    40],\n",
       "       [  120,    40],\n",
       "       [  320,    40],\n",
       "       [  720,    40],\n",
       "       [ 1520,    40],\n",
       "       [ 3120,    40],\n",
       "       [ 6320,    40],\n",
       "       [12720,    40],\n",
       "       [   80,    10],\n",
       "       [   80,    60],\n",
       "       [   80,   160],\n",
       "       [   80,   360],\n",
       "       [   80,   760],\n",
       "       [   80,  1560],\n",
       "       [   80,  3160],\n",
       "       [   80,  6360]], dtype=int32)"
      ]
     },
     "metadata": {},
     "execution_count": 41
    }
   ],
   "source": [
    "sample_sizes"
   ]
  },
  {
   "cell_type": "code",
   "execution_count": 37,
   "metadata": {},
   "outputs": [
    {
     "output_type": "execute_result",
     "data": {
      "text/plain": [
       "array([False, False, False, False, False, False, False, False, False,\n",
       "       False, False, False, False, False, False, False,  True,  True,\n",
       "        True,  True,  True,  True,  True,  True,  True,  True,  True,\n",
       "        True,  True,  True,  True,  True])"
      ]
     },
     "metadata": {},
     "execution_count": 37
    }
   ],
   "source": [
    "label"
   ]
  },
  {
   "cell_type": "code",
   "execution_count": 2,
   "metadata": {},
   "outputs": [
    {
     "output_type": "execute_result",
     "data": {
      "text/plain": "(0.74, array([0.5       , 1.54166667]))"
     },
     "metadata": {},
     "execution_count": 2
    }
   ],
   "source": [
    "import prop_estimation\n",
    "prop_estimation.lipton_method(x1, y1, x2)"
   ]
  },
  {
   "cell_type": "code",
   "execution_count": 2,
   "metadata": {},
   "outputs": [],
   "source": [
    "import numpy as np\n",
    "from sklearn.linear_model import LogisticRegression\n",
    "from sklearn import metrics\n",
    "import data\n"
   ]
  },
  {
   "cell_type": "code",
   "execution_count": 7,
   "metadata": {
    "tags": []
   },
   "outputs": [
    {
     "output_type": "stream",
     "name": "stdout",
     "text": "[[0.41 0.08]\n [0.05 0.46]]\n[[0.41 0.08]\n [0.05 0.46]]\n"
    },
    {
     "output_type": "execute_result",
     "data": {
      "text/plain": "array([0.17742145, 0.82257855])"
     },
     "metadata": {},
     "execution_count": 7
    }
   ],
   "source": [
    "D = data.DataGenerator(d = 4)\n",
    "x_source, y_source = D.getData(100, 0.5, 2)\n",
    "x_target, y_target = D.getData(100, 0.75, 2)\n",
    "m, d = np.shape(x_source)\n",
    "prop_source = np.mean(y_source)\n",
    "\n",
    "cl = LogisticRegression(penalty='none')\n",
    "cl.fit(x_source, y_source)\n",
    "confusion_matrix = metrics.confusion_matrix(cl.predict(x_source),y_source)/m \n",
    "print(confusion_matrix)\n",
    "if np.prod(np.diag(confusion_matrix)) == 0:\n",
    "    confusion_matrix = confusion_matrix + 0.01 * np.identity(d)\n",
    "print(confusion_matrix)\n",
    "confusion_matrix = confusion_matrix/np.sum(confusion_matrix)\n",
    "prop_target = np.mean(cl.predict(x_target))\n",
    "    \n",
    "xi = np.array([1-prop_target,prop_target])\n",
    "w = np.matmul(np.linalg.inv(confusion_matrix),xi)\n",
    "prop_targets = w*np.array([1-prop_source, prop_source])\n",
    "prop_targets"
   ]
  },
  {
   "cell_type": "code",
   "execution_count": 5,
   "metadata": {},
   "outputs": [
    {
     "output_type": "execute_result",
     "data": {
      "text/plain": "array([1.53061224, 0.51020408])"
     },
     "metadata": {},
     "execution_count": 5
    }
   ],
   "source": [
    "np.matmul(np.linalg.inv(confusion_matrix), xi)"
   ]
  },
  {
   "cell_type": "code",
   "execution_count": 9,
   "metadata": {},
   "outputs": [
    {
     "output_type": "execute_result",
     "data": {
      "text/plain": "array([1.10036881, 0.90279241])"
     },
     "metadata": {},
     "execution_count": 9
    }
   ],
   "source": [
    "w"
   ]
  },
  {
   "cell_type": "code",
   "execution_count": 7,
   "metadata": {},
   "outputs": [
    {
     "output_type": "execute_result",
     "data": {
      "text/plain": "11"
     },
     "metadata": {},
     "execution_count": 7
    }
   ],
   "source": [
    "w * "
   ]
  },
  {
   "cell_type": "code",
   "execution_count": 8,
   "metadata": {},
   "outputs": [
    {
     "output_type": "execute_result",
     "data": {
      "text/plain": "0.41"
     },
     "metadata": {},
     "execution_count": 8
    }
   ],
   "source": [
    "prop_target"
   ]
  },
  {
   "cell_type": "code",
   "execution_count": 9,
   "metadata": {},
   "outputs": [
    {
     "output_type": "execute_result",
     "data": {
      "text/plain": "array([0.53531976, 0.4644503 ])"
     },
     "metadata": {},
     "execution_count": 9
    }
   ],
   "source": [
    "prop_targets"
   ]
  },
  {
   "cell_type": "code",
   "execution_count": 10,
   "metadata": {},
   "outputs": [
    {
     "output_type": "execute_result",
     "data": {
      "text/plain": "array([0.95592814, 1.05556886])"
     },
     "metadata": {},
     "execution_count": 10
    }
   ],
   "source": [
    "w"
   ]
  },
  {
   "cell_type": "code",
   "execution_count": 11,
   "metadata": {},
   "outputs": [
    {
     "output_type": "execute_result",
     "data": {
      "text/plain": "1.0"
     },
     "metadata": {},
     "execution_count": 11
    }
   ],
   "source": [
    "np.sum(confusion_matrix)"
   ]
  },
  {
   "cell_type": "code",
   "execution_count": 17,
   "metadata": {},
   "outputs": [
    {
     "output_type": "execute_result",
     "data": {
      "text/plain": "0.08639999999999999"
     },
     "metadata": {},
     "execution_count": 17
    }
   ],
   "source": [
    "np.prod(np.diag(confusion_matrix))"
   ]
  },
  {
   "cell_type": "code",
   "execution_count": 6,
   "metadata": {},
   "outputs": [
    {
     "output_type": "execute_result",
     "data": {
      "text/plain": "70"
     },
     "metadata": {},
     "execution_count": 6
    }
   ],
   "source": [
    "np.sum(y2)"
   ]
  },
  {
   "cell_type": "code",
   "execution_count": 9,
   "metadata": {},
   "outputs": [
    {
     "output_type": "execute_result",
     "data": {
      "text/plain": "array([   4,    8,   16,   32,   64,  128,  256,  512, 1024, 2048])"
     },
     "metadata": {},
     "execution_count": 9
    }
   ],
   "source": [
    "4 * 2 ** np.array(range(10))"
   ]
  },
  {
   "cell_type": "code",
   "execution_count": 18,
   "metadata": {},
   "outputs": [
    {
     "output_type": "execute_result",
     "data": {
      "text/plain": "array([False, False, False,  True])"
     },
     "metadata": {},
     "execution_count": 18
    }
   ],
   "source": [
    "x = np.array([1, 2, 3, 4])\n",
    "x>3"
   ]
  },
  {
   "cell_type": "code",
   "execution_count": 20,
   "metadata": {},
   "outputs": [
    {
     "output_type": "execute_result",
     "data": {
      "text/plain": "False"
     },
     "metadata": {},
     "execution_count": 20
    }
   ],
   "source": [
    "np.any(x>5)"
   ]
  },
  {
   "cell_type": "code",
   "execution_count": null,
   "metadata": {},
   "outputs": [],
   "source": []
  }
 ]
}